{
 "cells": [
  {
   "cell_type": "markdown",
   "id": "f2f4829f",
   "metadata": {},
   "source": [
    "## 1. 화면에 \"Hello World\"를 출력하라."
   ]
  },
  {
   "cell_type": "code",
   "execution_count": 198,
   "id": "30e468e1",
   "metadata": {},
   "outputs": [
    {
     "name": "stdout",
     "output_type": "stream",
     "text": [
      "helloworld\n"
     ]
    }
   ],
   "source": [
    "print(\"helloworld\")"
   ]
  },
  {
   "cell_type": "markdown",
   "id": "10683760",
   "metadata": {},
   "source": [
    "## 2. 화면에 \"Monsta X's trespass\"를 출력하라. (중간에 '가 포인트)"
   ]
  },
  {
   "cell_type": "code",
   "execution_count": 195,
   "id": "549f474f",
   "metadata": {},
   "outputs": [
    {
     "name": "stdout",
     "output_type": "stream",
     "text": [
      "Monsta X's trespass\n"
     ]
    }
   ],
   "source": [
    "print('Monsta X\\'s trespass')"
   ]
  },
  {
   "cell_type": "markdown",
   "id": "e291df81",
   "metadata": {},
   "source": [
    "## 3. print 함수를 사용하여 3.141592의 값을 출력하라. 단, 출력된 값이 소수점 아래로 두 자리 숫자까지만 표시되도록 하라.\n",
    "\n",
    "실행 예: \n",
    "3.14"
   ]
  },
  {
   "cell_type": "code",
   "execution_count": 197,
   "id": "e1e07cd0",
   "metadata": {},
   "outputs": [
    {
     "name": "stdout",
     "output_type": "stream",
     "text": [
      "3.14\n"
     ]
    }
   ],
   "source": [
    "pi = 3.141592\n",
    "print(\"%.2f\" % pi)"
   ]
  },
  {
   "cell_type": "markdown",
   "id": "d9b4df0c",
   "metadata": {},
   "source": [
    "## 4. 사용자로부터 두 개의 숫자를 입력받은 후 두 개의 숫자를 더한 값을 출력하는 프로그램을 작성하라.\n",
    "\n",
    "실행 예: \n",
    "first: 3 second: 4 sum: 7"
   ]
  },
  {
   "cell_type": "code",
   "execution_count": 9,
   "id": "2e44c4bd",
   "metadata": {},
   "outputs": [
    {
     "name": "stdout",
     "output_type": "stream",
     "text": [
      "first input: 100\n",
      "second input: 200\n"
     ]
    },
    {
     "data": {
      "text/plain": [
       "300"
      ]
     },
     "execution_count": 9,
     "metadata": {},
     "output_type": "execute_result"
    }
   ],
   "source": [
    "def sum():\n",
    "    first = input(\"first input: \")\n",
    "    second = input(\"second input: \")\n",
    "    return int(first) + int(second)\n",
    "\n",
    "sum()"
   ]
  },
  {
   "cell_type": "markdown",
   "id": "16a13daa",
   "metadata": {},
   "source": [
    "## 5. 사용자로부터 출력하고자 하는 문자열과 반복 횟수를 4로 입력받았다고 가정해서, 문자열을 반복 횟수(4번)만큼 출력하는 프로그램을 작성하라.\n",
    "\n",
    "실행 예: \n",
    "문자열: hello 반복횟수: 4 \"hellohellohellohello\""
   ]
  },
  {
   "cell_type": "code",
   "execution_count": 5,
   "id": "9396bada",
   "metadata": {},
   "outputs": [
    {
     "name": "stdout",
     "output_type": "stream",
     "text": [
      "hellohellohellohello"
     ]
    }
   ],
   "source": [
    "for i in range(4):\n",
    "    print(\"hello\", end=\"\") "
   ]
  },
  {
   "cell_type": "markdown",
   "id": "d25f82dd",
   "metadata": {},
   "source": [
    "## 6. 문자열 '720'를 정수형으로 변환하라. 정수 100을 문자열 '100'으로 변환하라."
   ]
  },
  {
   "cell_type": "code",
   "execution_count": 11,
   "id": "13c9d6f1",
   "metadata": {},
   "outputs": [
    {
     "data": {
      "text/plain": [
       "'100'"
      ]
     },
     "execution_count": 11,
     "metadata": {},
     "output_type": "execute_result"
    }
   ],
   "source": [
    "int(\"720\")\n",
    "str(100)"
   ]
  },
  {
   "cell_type": "markdown",
   "id": "edd2ddeb",
   "metadata": {},
   "source": [
    "## 7. 사용자로부터 두 개의 숫자를 입력받은 후 두 숫자의 덧셈, 뺄셈, 곱셈, 나눗셈, 몫, 나머지 결과값을 출력하라."
   ]
  },
  {
   "cell_type": "code",
   "execution_count": 12,
   "id": "7e6de037",
   "metadata": {},
   "outputs": [
    {
     "name": "stdout",
     "output_type": "stream",
     "text": [
      "first input: 100\n",
      "second input: 3\n",
      "103\n",
      "97\n",
      "300\n",
      "33.333333333333336\n",
      "33\n",
      "1\n"
     ]
    }
   ],
   "source": [
    "first = int(input(\"first input: \"))\n",
    "second = int(input(\"second input: \"))\n",
    "\n",
    "print(first + second)\n",
    "print(first - second)\n",
    "print(first * second)\n",
    "print(first/second)\n",
    "print(first//second)\n",
    "print(first%second)"
   ]
  },
  {
   "cell_type": "markdown",
   "id": "b3175a47",
   "metadata": {},
   "source": [
    "## 8. 사용자로부터 밑과 지수를 입력받은 후 거듭제곱 값을 출력하라.\n",
    "\n",
    "실행 예: \n",
    "밑: 3 지수: 2 3^2 = 9"
   ]
  },
  {
   "cell_type": "code",
   "execution_count": 15,
   "id": "3fcf00bd",
   "metadata": {},
   "outputs": [
    {
     "name": "stdout",
     "output_type": "stream",
     "text": [
      "downie: 100\n",
      "floppy: 2\n",
      "10000\n"
     ]
    }
   ],
   "source": [
    "first = int(input(\"downie: \"))\n",
    "second = int(input(\"floppy: \"))\n",
    "print(first**second)"
   ]
  },
  {
   "cell_type": "markdown",
   "id": "25c510ca",
   "metadata": {},
   "source": [
    "## 9. 사용자로부터 두 개의 숫자를 입력받은 후 두 개의 숫자를 나눈 값을 다음 조건에 맞추어 출력하는 프로그램을 작성하라.\n",
    "\n",
    "format() 함수를 사용해서 출력\n",
    "단, 나눈 값은 소숫점 첫번째 자리까지만 출력"
   ]
  },
  {
   "cell_type": "code",
   "execution_count": 18,
   "id": "e71b3a31",
   "metadata": {},
   "outputs": [
    {
     "name": "stdout",
     "output_type": "stream",
     "text": [
      "first input: 50\n",
      "second input: 7\n",
      "7.1\n"
     ]
    }
   ],
   "source": [
    "first = float(input(\"first input: \"))\n",
    "second = float(input(\"second input: \"))\n",
    "result = \"{third:.1f}\"\n",
    "print(result.format(third = first/second))"
   ]
  },
  {
   "cell_type": "markdown",
   "id": "50eaa17c",
   "metadata": {},
   "source": [
    "## 10. 210108, 4.3, \"fun-coding\" 각각을 변수에 넣고, 데이터 타입을 출력하라."
   ]
  },
  {
   "cell_type": "code",
   "execution_count": 199,
   "id": "fcd0d9e0",
   "metadata": {},
   "outputs": [
    {
     "name": "stdout",
     "output_type": "stream",
     "text": [
      "<class 'int'>\n",
      "<class 'float'>\n",
      "<class 'str'>\n"
     ]
    }
   ],
   "source": [
    "first = 210108\n",
    "second = 4.3\n",
    "third = \"fun-coding\"\n",
    "print(type(first))\n",
    "print(type(second))\n",
    "print(type(third))"
   ]
  },
  {
   "cell_type": "markdown",
   "id": "4b6d2504",
   "metadata": {},
   "source": [
    "## 11. 다음 코드를 실행해보고 \\t와 \\n의 역할을 설명하라."
   ]
  },
  {
   "cell_type": "code",
   "execution_count": 29,
   "id": "1f9fdc6b",
   "metadata": {},
   "outputs": [
    {
     "name": "stdout",
     "output_type": "stream",
     "text": [
      "000660\n",
      "00000102\t12312312\n",
      "3\n",
      "f\tf\n"
     ]
    }
   ],
   "source": [
    "code = '000660\\n00000102\\t12312312'\n",
    "print(code)"
   ]
  },
  {
   "cell_type": "markdown",
   "id": "90517ea4",
   "metadata": {},
   "source": [
    "\\n: go to next line\n",
    "\\t: tab"
   ]
  },
  {
   "cell_type": "markdown",
   "id": "bed984ff",
   "metadata": {},
   "source": [
    "## 15. 사용자로부터 두 개의 숫자를 입력받은 후 큰 숫자를 화면에 출력하라."
   ]
  },
  {
   "cell_type": "code",
   "execution_count": 31,
   "id": "7d094afe",
   "metadata": {},
   "outputs": [
    {
     "name": "stdout",
     "output_type": "stream",
     "text": [
      "100\n",
      "5\n",
      "100\n"
     ]
    }
   ],
   "source": [
    "first = int(input())\n",
    "second = int(input())\n",
    "if first > second:\n",
    "    print(first)\n",
    "elif first < second:\n",
    "    print(second)\n",
    "    "
   ]
  },
  {
   "cell_type": "markdown",
   "id": "405a4a91",
   "metadata": {},
   "source": [
    "## 16. 사용자로부터 입력받은 숫자가 홀수인지 짝수인지 출력하라."
   ]
  },
  {
   "cell_type": "code",
   "execution_count": 33,
   "id": "b1ad5e41",
   "metadata": {},
   "outputs": [
    {
     "name": "stdout",
     "output_type": "stream",
     "text": [
      "1005\n",
      "False\n"
     ]
    }
   ],
   "source": [
    "first = int(input())\n",
    "if first%2 == 0:\n",
    "    print(True)\n",
    "else:\n",
    "    print(False)"
   ]
  },
  {
   "cell_type": "markdown",
   "id": "7b88fe9b",
   "metadata": {},
   "source": [
    "## 17. 사용자로부터 세 개의 숫자를 입력받은 후 가장 작은 숫자를 출력하라."
   ]
  },
  {
   "cell_type": "code",
   "execution_count": 42,
   "id": "ef14a792",
   "metadata": {},
   "outputs": [
    {
     "name": "stdout",
     "output_type": "stream",
     "text": [
      "100\n",
      "2\n",
      "50\n",
      "2\n"
     ]
    }
   ],
   "source": [
    "def bubble_Sort(arr):\n",
    "    m = len(arr)\n",
    "    for u in range(m):\n",
    "        for v in range(0, m-u-1):\n",
    "            if arr[v] > arr[v+1] :\n",
    "                arr[v], arr[v+1] = arr[v+1], arr[v]\n",
    "        \n",
    "numbers1 = int(input())\n",
    "numbers2 = int(input())\n",
    "numbers3 = int(input())\n",
    "\n",
    "array = [numbers1, numbers2, numbers3]\n",
    "    \n",
    "bubble_Sort(array)    \n",
    "print(array[0])"
   ]
  },
  {
   "cell_type": "markdown",
   "id": "773c77f0",
   "metadata": {},
   "source": [
    "## 18. 사용자로부터 점수를 입력받은 후 등급을 출력하라.\n",
    "(A: 100 ~ 81, B: 80 ~ 61, C: 60 ~ 0)"
   ]
  },
  {
   "cell_type": "code",
   "execution_count": 43,
   "id": "92653e9a",
   "metadata": {},
   "outputs": [
    {
     "name": "stdout",
     "output_type": "stream",
     "text": [
      "50\n",
      "C\n"
     ]
    }
   ],
   "source": [
    "score = int(input())\n",
    "if score >= 81 and score <= 100:\n",
    "    print(\"A\")\n",
    "elif score >= 61 and score <= 80:\n",
    "    print(\"B\")\n",
    "elif score >= 0 and score <= 60:\n",
    "    print(\"C\")\n",
    "else:\n",
    "    print(\"invalid\")"
   ]
  },
  {
   "cell_type": "markdown",
   "id": "6c960516",
   "metadata": {},
   "source": [
    "## 19. 사용자로부터 주민등록번호를 입력받아 출생 연도를 출력하라."
   ]
  },
  {
   "cell_type": "code",
   "execution_count": 47,
   "id": "46812044",
   "metadata": {},
   "outputs": [
    {
     "name": "stdout",
     "output_type": "stream",
     "text": [
      "jumin bunho Ssu nuh uu: 128012-4804155\n",
      "12\n"
     ]
    }
   ],
   "source": [
    "bunho = input(\"jumin bunho Ssu nuh uu: \")\n",
    "bunho1 = bunho[:2]\n",
    "print(bunho1)"
   ]
  },
  {
   "cell_type": "markdown",
   "id": "8f8ae60c",
   "metadata": {},
   "source": [
    "## 20. 사용자로부터 주민등록번호를 입력받아 뒷자리 맨 앞의 숫자를 출력하라.\n",
    "(1은 남성, 2는 여성, 세윤군은 3이겠군요..?)"
   ]
  },
  {
   "cell_type": "code",
   "execution_count": 49,
   "id": "393b07fe",
   "metadata": {},
   "outputs": [
    {
     "name": "stdout",
     "output_type": "stream",
     "text": [
      "bunho ne nwa: 102404-12u8490\n",
      "1\n"
     ]
    }
   ],
   "source": [
    "jumin_bunho = input(\"bunho ne nwa: \")\n",
    "backJari = jumin_bunho.split(\"-\")[1]\n",
    "print(backJari[:1])"
   ]
  },
  {
   "cell_type": "markdown",
   "id": "68588c89",
   "metadata": {},
   "source": [
    "## 21. 사용자로부터 주민등록번호를 입력받아 성별을 '남성' 또는 '여성'으로 출력하라."
   ]
  },
  {
   "cell_type": "code",
   "execution_count": 50,
   "id": "104c2577",
   "metadata": {},
   "outputs": [
    {
     "name": "stdout",
     "output_type": "stream",
     "text": [
      "bunho ne nwa: 120490-6512750\n",
      "female\n"
     ]
    }
   ],
   "source": [
    "jumin_bunho = input(\"bunho ne nwa: \")\n",
    "backJari = jumin_bunho.split(\"-\")[1]\n",
    "gender = (backJari[:1])\n",
    "if int(gender)%2 == 1:\n",
    "    print(\"male\")\n",
    "else:\n",
    "    print(\"female\")\n",
    "    "
   ]
  },
  {
   "cell_type": "markdown",
   "id": "d4745a40",
   "metadata": {},
   "source": [
    "## 22. 다음 문자열에서 ...를 제거하라."
   ]
  },
  {
   "cell_type": "code",
   "execution_count": 53,
   "id": "3c157529",
   "metadata": {},
   "outputs": [
    {
     "data": {
      "text/plain": [
       "'a man goes into the room'"
      ]
     },
     "execution_count": 53,
     "metadata": {},
     "output_type": "execute_result"
    }
   ],
   "source": [
    "mystr = \"a man goes into the room...\"\n",
    "mystr.rstrip(\".\")"
   ]
  },
  {
   "cell_type": "markdown",
   "id": "bbcad207",
   "metadata": {},
   "source": [
    "## 23. 주식 종목을 나타내는 종목코드에 공백과 줄바꿈 기호가 포함되어 있다. 공백과 줄바꿈 기호를 제거하고 종목코드만을 추출하라."
   ]
  },
  {
   "cell_type": "code",
   "execution_count": 54,
   "id": "4c482c8f",
   "metadata": {},
   "outputs": [
    {
     "data": {
      "text/plain": [
       "'050812'"
      ]
     },
     "execution_count": 54,
     "metadata": {},
     "output_type": "execute_result"
    }
   ],
   "source": [
    "stock = '          050812\\n           '\n",
    "stock.strip()"
   ]
  },
  {
   "cell_type": "markdown",
   "id": "a090cf99",
   "metadata": {},
   "source": [
    "## 24. 다음 문자열에서 'Monsta X' 문자열의 빈도수를 출력하라."
   ]
  },
  {
   "cell_type": "code",
   "execution_count": 56,
   "id": "f45972aa",
   "metadata": {},
   "outputs": [
    {
     "data": {
      "text/plain": [
       "5"
      ]
     },
     "execution_count": 56,
     "metadata": {},
     "output_type": "execute_result"
    }
   ],
   "source": [
    "monsta_x_wiki = \"Monsta X is a South Korean boy group formed through the reality survival program No.Mercy by Starship Entertainment. The group is currently composed of six members: Shownu, Minhyuk, Kihyun, Hyungwon, Joohoney and I.M, with former member Wonho leaving the group in October 2019. The group debuted on May 14, 2015 with their first EP Trespass. In March 2017, Monsta X released their first studio album and final part of The Clan series The Clan Pt. 2.5: The Final Chapter. Since 2018, Monsta X had four Japanese singles certified gold by the Recording Industry Association of Japan. Since 2019, six of their Korean albums had been certified platinum by the Korea Music Content Association. In February 2020, Monsta X's first English album All About Luv ranked number five on the US Billboard 200 and number seven on the US Rolling Stone Top 200. Since debut, Monsta X has been known for their aggressive style, combining elements of hip hop, EDM and pop. This aggressive style with tracks centred around loud, clattering, electronic instrumentals, vicious rap verses and striking vocals has been influential across the fourth generation of K-pop.\"\n",
    "monsta_x_wiki.count(\"Monsta X\")"
   ]
  },
  {
   "cell_type": "markdown",
   "id": "a2eb6ca3",
   "metadata": {},
   "source": [
    "## 25. 다음 문자열에서 두번째와 네번째 문자를 출력하라."
   ]
  },
  {
   "cell_type": "code",
   "execution_count": 58,
   "id": "a8ab6409",
   "metadata": {},
   "outputs": [
    {
     "name": "stdout",
     "output_type": "stream",
     "text": [
      "e u\n"
     ]
    }
   ],
   "source": [
    "name = 'seyun'\n",
    "print(name[1], name[3])"
   ]
  },
  {
   "cell_type": "markdown",
   "id": "7a5ff08b",
   "metadata": {},
   "source": [
    "## 26. 사용자로부터 문자열을 입력받고 문자 x가 들어있는지를 출력하라.\n",
    "\n",
    "x가 들어있으면 1, 안 들어있으면 0을 출력"
   ]
  },
  {
   "cell_type": "code",
   "execution_count": 59,
   "id": "725a7793",
   "metadata": {},
   "outputs": [
    {
     "name": "stdout",
     "output_type": "stream",
     "text": [
      "10894080sx x x0801412\n",
      "1\n"
     ]
    }
   ],
   "source": [
    "stri = input()\n",
    "if stri.count(\"x\") > 1:\n",
    "    print(1)\n",
    "else:\n",
    "    print(0)"
   ]
  },
  {
   "cell_type": "markdown",
   "id": "97356ec6",
   "metadata": {},
   "source": [
    "## 27. 다음 문자열을 ,를 기준으로 분리해서 출력하라."
   ]
  },
  {
   "cell_type": "code",
   "execution_count": 63,
   "id": "7f04ac2c",
   "metadata": {},
   "outputs": [
    {
     "name": "stdout",
     "output_type": "stream",
     "text": [
      "Shownu\n",
      " Joohoney\n",
      " Minhyuk\n",
      " Kihyun\n",
      " Hyungwon\n",
      " IM\n",
      " Wonho\n"
     ]
    }
   ],
   "source": [
    "names = \"Shownu, Joohoney, Minhyuk, Kihyun, Hyungwon, IM, Wonho\"\n",
    "name = names.split(\",\")\n",
    "for i in range(len(name)):\n",
    "    print(name[i])"
   ]
  },
  {
   "cell_type": "markdown",
   "id": "3b105d7d",
   "metadata": {},
   "source": [
    "## 28. 다음과 같은 파일 이름(확장자 포함)에서 확장자를 제거한 파일 이름만 출력하라."
   ]
  },
  {
   "cell_type": "code",
   "execution_count": 67,
   "id": "d6db15fb",
   "metadata": {},
   "outputs": [
    {
     "name": "stdout",
     "output_type": "stream",
     "text": [
      "test01\n"
     ]
    }
   ],
   "source": [
    "filename = 'test01.docx'\n",
    "filenames = filename.split(\".\")\n",
    "print(filenames[0])"
   ]
  },
  {
   "cell_type": "markdown",
   "id": "33838211",
   "metadata": {},
   "source": [
    "## 29. 1 ~ 10까지의 숫자를 for문을 사용하여 모두 더해서 출력하라. "
   ]
  },
  {
   "cell_type": "code",
   "execution_count": 71,
   "id": "da84905b",
   "metadata": {},
   "outputs": [
    {
     "name": "stdout",
     "output_type": "stream",
     "text": [
      "55\n"
     ]
    }
   ],
   "source": [
    "def add(obj):\n",
    "    result = 0\n",
    "    for i in range(len(obj)):\n",
    "        result += obj[i]\n",
    "    return result\n",
    "        \n",
    "print(add(range(1, 11)))"
   ]
  },
  {
   "cell_type": "markdown",
   "id": "19d4509b",
   "metadata": {},
   "source": [
    "## 30. 사용자로부터 2 ~ 9 사이의 숫자를 입력받은 후, 해당 숫자에 대한 구구단을 출력하라."
   ]
  },
  {
   "cell_type": "code",
   "execution_count": 82,
   "id": "2e2d3576",
   "metadata": {},
   "outputs": [
    {
     "name": "stdout",
     "output_type": "stream",
     "text": [
      "434712\n",
      "434712  X  1  =  434712\n",
      "434712  X  2  =  869424\n",
      "434712  X  3  =  1304136\n",
      "434712  X  4  =  1738848\n",
      "434712  X  5  =  2173560\n",
      "434712  X  6  =  2608272\n",
      "434712  X  7  =  3042984\n",
      "434712  X  8  =  3477696\n",
      "434712  X  9  =  3912408\n"
     ]
    }
   ],
   "source": [
    "def nineninearmy(num):\n",
    "    for i in range(9):\n",
    "        print(num, \" X \", i+1, \" = \", num*(i+1))\n",
    "        \n",
    "num = int(input())\n",
    "nineninearmy(num)"
   ]
  },
  {
   "cell_type": "markdown",
   "id": "15504cdf",
   "metadata": {},
   "source": [
    "## 31. 사용자로부터 ,로 구분된 여러 이름을 입력받아서 한 줄에 하나씩 이름을 출력하라.\n",
    "\n",
    "input: Shownu,Joohoney,Minhyuk,Kihyun,Hyungwon,IM,Wonho\n",
    "output:\n",
    "Shownu\n",
    "Joohoney\n",
    "Minhyuk\n",
    "Kihyun\n",
    "Hyungwon\n",
    "IM\n",
    "Wonho"
   ]
  },
  {
   "cell_type": "code",
   "execution_count": 77,
   "id": "dcaf8b2c",
   "metadata": {},
   "outputs": [
    {
     "name": "stdout",
     "output_type": "stream",
     "text": [
      "Shownu,Joohoney,Minhyuk,Kihyun,Hyungwon,IM,Wonho\n",
      "Shownu Joohoney Minhyuk Kihyun Hyungwon IM Wonho "
     ]
    }
   ],
   "source": [
    "strf = input()\n",
    "strfs = strf.split(\",\")\n",
    "for i in range(len(strfs)):\n",
    "    print(strfs[i], end=\" \")\n",
    "    "
   ]
  },
  {
   "cell_type": "markdown",
   "id": "033b4db0",
   "metadata": {},
   "source": [
    "## 32. 사용자로부터 [이름1],[이름2],[이름3]과 같은 형식으로 입력받아서 한 줄에 하나씩 이름을 출력하라.\n",
    "\n",
    "input: [Shownu],[Joohoney],[Minhyuk],[Kihyun],[Hyungwon],[IM],[Wonho]\n",
    "output:\n",
    "Shownu\n",
    "Joohoney\n",
    "Minhyuk\n",
    "Kihyun\n",
    "Hyungwon\n",
    "IM\n",
    "Wonho"
   ]
  },
  {
   "cell_type": "code",
   "execution_count": 79,
   "id": "cab90ade",
   "metadata": {},
   "outputs": [
    {
     "name": "stdout",
     "output_type": "stream",
     "text": [
      "[Shownu],[Joohoney],[Minhyuk],[Kihyun],[Hyungwon],[IM],[Wonho]\n",
      "Shownu Joohoney Minhyuk Kihyun Hyungwon IM Wonho "
     ]
    }
   ],
   "source": [
    "name = input()\n",
    "names = name.split(\",\")\n",
    "for i in range(len(names)):\n",
    "    print(names[i][1:-1], end=\" \")\n",
    "    "
   ]
  },
  {
   "cell_type": "markdown",
   "id": "a4b49904",
   "metadata": {},
   "source": [
    "## 33. 1부터 30까지의 숫자 중 3의 배수만 출력하라."
   ]
  },
  {
   "cell_type": "code",
   "execution_count": 81,
   "id": "6c46caf4",
   "metadata": {},
   "outputs": [
    {
     "name": "stdout",
     "output_type": "stream",
     "text": [
      "3\n",
      "6\n",
      "9\n",
      "12\n",
      "15\n",
      "18\n",
      "21\n",
      "24\n",
      "27\n",
      "30\n"
     ]
    }
   ],
   "source": [
    "nums = range(1, 31)\n",
    "for i in range(len(nums)):\n",
    "    if nums[i]%3 == 0:\n",
    "        print(nums[i])"
   ]
  },
  {
   "cell_type": "markdown",
   "id": "35bba75d",
   "metadata": {},
   "source": [
    "## 34. 1부터 100까지 숫자를 while 문을 사용해서 모두 더한 값을 출력하라."
   ]
  },
  {
   "cell_type": "code",
   "execution_count": 91,
   "id": "857d26aa",
   "metadata": {},
   "outputs": [
    {
     "name": "stdout",
     "output_type": "stream",
     "text": [
      "5050\n"
     ]
    }
   ],
   "source": [
    "num = range(1, 101)\n",
    "checker = False\n",
    "result = 0\n",
    "i = 0\n",
    "while(checker == False):\n",
    "    result += num[i]\n",
    "    if num[i] == num[len(num) - 1]:\n",
    "        checker = True\n",
    "    else: \n",
    "        i = i+1\n",
    "\n",
    "print(result)"
   ]
  },
  {
   "cell_type": "markdown",
   "id": "16a33739",
   "metadata": {},
   "source": [
    "## 35. 사용자로부터 4자리의 숫자로 구성된 데이터를 입력받아서 비밀번호와 같으면 '비밀번호가 맞습니다'를 출력하고 종료하고, 다르면 '비밀번호가 틀렸습니다'를 출력하고 다시 사용자로부터 입력받는 프로그램을 작성하라.\n",
    "\n",
    "비밀번호는 0928입니다."
   ]
  },
  {
   "cell_type": "code",
   "execution_count": 104,
   "id": "6609f1ca",
   "metadata": {},
   "outputs": [
    {
     "name": "stdout",
     "output_type": "stream",
     "text": [
      "1245\n",
      "비밀번호가 틀렸어 잡범\n",
      "235\n",
      "비밀번호가 틀렸어 잡범\n",
      "1253\n",
      "비밀번호가 틀렸어 잡범\n",
      "1590\n",
      "비밀번호가 틀렸어 잡범\n",
      "907235\n",
      "비밀번호가 틀렸어 잡범\n",
      "25\n",
      "비밀번호가 틀렸어 잡범\n",
      "0912\n",
      "비밀번호가 틀렸어 잡범\n",
      "0928\n",
      "즌하 지당하신 비밀번호이옵니다 성은히 망극하옵니다\n"
     ]
    }
   ],
   "source": [
    "35\n",
    "def confirmer(num):\n",
    "    if (num == \"0928\"):\n",
    "        print('즌하 지당하신 비밀번호이옵니다 성은이 망극하옵니다')\n",
    "        return True\n",
    "    else: \n",
    "        print('비밀번호가 틀렸어 잡범')\n",
    "        return False\n",
    "    \n",
    "def caller():\n",
    "    f = input()\n",
    "    if (confirmer(f)):\n",
    "        return\n",
    "    else:\n",
    "        caller()\n",
    "        return\n",
    "    \n",
    "caller()"
   ]
  },
  {
   "cell_type": "markdown",
   "id": "95353e6b",
   "metadata": {},
   "source": [
    "## 36. 다음 리스트 변수에서 음수 데이터를 삭제하고 양수만 가진 리스트 변수로 만든 후 출력하라."
   ]
  },
  {
   "cell_type": "code",
   "execution_count": 108,
   "id": "e38097c4",
   "metadata": {},
   "outputs": [
    {
     "name": "stdout",
     "output_type": "stream",
     "text": [
      "[31, 22, 33]\n"
     ]
    }
   ],
   "source": [
    "num_list = [0, -11, 31, 22, -11, 33, -44, -55]\n",
    "new_list = []\n",
    "for i in range(len(num_list)):\n",
    "    if num_list[i] > 0:\n",
    "        new_list.append(num_list[i])\n",
    "        \n",
    "print(new_list)"
   ]
  },
  {
   "cell_type": "markdown",
   "id": "a0defcfc",
   "metadata": {},
   "source": [
    "## 37. 다음 리스트에 있는 숫자를 역방향으로 한 라인에 하나씩 출력하라."
   ]
  },
  {
   "cell_type": "code",
   "execution_count": 109,
   "id": "c3f39fc1",
   "metadata": {},
   "outputs": [
    {
     "name": "stdout",
     "output_type": "stream",
     "text": [
      "10\n",
      "9\n",
      "8\n",
      "7\n",
      "6\n",
      "5\n",
      "4\n",
      "3\n",
      "2\n",
      "1\n"
     ]
    }
   ],
   "source": [
    "countdown = [1, 2, 3, 4, 5, 6, 7, 8, 9, 10]\n",
    "for i in range(len(countdown)):\n",
    "    print(countdown[len(countdown) - i - 1])"
   ]
  },
  {
   "cell_type": "markdown",
   "id": "9521b5a1",
   "metadata": {},
   "source": [
    "## 38. 다음 리스트에서 확장자를 제거하고 파일 이름만 출력하라."
   ]
  },
  {
   "cell_type": "code",
   "execution_count": 117,
   "id": "9b990a86",
   "metadata": {},
   "outputs": [
    {
     "name": "stdout",
     "output_type": "stream",
     "text": [
      "ex01\n",
      "ex02\n",
      "ex03\n",
      "ex04\n",
      "ex05\n"
     ]
    }
   ],
   "source": [
    "file_list = ['ex01.docx', 'ex02.docx', 'ex03.docx', 'ex04.docx', 'ex05.docx']\n",
    "flist = []\n",
    "for i in range(len(file_list)):\n",
    "    flist.append(file_list[i].split(\".\")[0])\n",
    "    print(flist[i])"
   ]
  },
  {
   "cell_type": "markdown",
   "id": "58778497",
   "metadata": {},
   "source": [
    "## 39. 다음 리스트에서 확장자가 .txt인 파일만 출력하라."
   ]
  },
  {
   "cell_type": "code",
   "execution_count": 120,
   "id": "f1622929",
   "metadata": {},
   "outputs": [
    {
     "name": "stdout",
     "output_type": "stream",
     "text": [
      "ex03.txt\n"
     ]
    }
   ],
   "source": [
    "file_list = ['ex01.docx', 'ex02.csv', 'ex03.txt', 'ex04.hwp', 'ex05.rtf']\n",
    "for i in range(len(file_list)):\n",
    "    if file_list[i].split(\".\")[1] == \"txt\":\n",
    "        print(file_list[i])"
   ]
  },
  {
   "cell_type": "markdown",
   "id": "e1385e55",
   "metadata": {},
   "source": [
    "## 40. 사용자로부터 USD 또는 CAD 금액을 입력받은 후 이를 KRW으로 바꿔서 출력하라.\n",
    "\n",
    "1 USD = 1204 KRW\n",
    "1 CAD = 947 KRW\n",
    "\n",
    "input: 100 USD\n",
    "output: 120400 KRW"
   ]
  },
  {
   "cell_type": "code",
   "execution_count": 125,
   "id": "3e1cf10c",
   "metadata": {},
   "outputs": [
    {
     "name": "stdout",
     "output_type": "stream",
     "text": [
      "how much?\n",
      "100\n",
      "wrong input\n"
     ]
    }
   ],
   "source": [
    "cost = input(\"how much?\\n\")\n",
    "\n",
    "if not \" \" in cost:\n",
    "    print(\"wrong input\")\n",
    "else:\n",
    "    costs = cost.split(\" \")\n",
    "    if costs[1] == \"USD\":\n",
    "        print(int(costs[0]) * 1204, \"KRW\")\n",
    "    elif costs[i] == \"CAD\":\n",
    "        print(int(costs[0]) * 947, \"KRW\")\n",
    "    else:\n",
    "        print(\"wrong input\")"
   ]
  },
  {
   "cell_type": "markdown",
   "id": "d1889069",
   "metadata": {},
   "source": [
    "## 41. 통화단위와 원화 환율을 가진 딕셔너리로 만들고 사용자로부터 USD, CAD, EUR을 입력받은 후 이를 KRW으로 바꿔서 계산하라.\n",
    "\n",
    "1 EUR = 1361 KRW"
   ]
  },
  {
   "cell_type": "code",
   "execution_count": 128,
   "id": "dc0b4ae3",
   "metadata": {},
   "outputs": [
    {
     "name": "stdout",
     "output_type": "stream",
     "text": [
      "400 EUR\n",
      "544400 KRW\n"
     ]
    }
   ],
   "source": [
    "KRW_hwanuel = {\n",
    "    \"USD\": 1204,\n",
    "    \"CAD\": 947,\n",
    "    \"EUR\": 1361\n",
    "}\n",
    "\n",
    "cost = input()\n",
    "\n",
    "if not \" \" in cost:\n",
    "    print(\"wrong input\")\n",
    "else:\n",
    "    costs = cost.split(\" \")\n",
    "    print(int(costs[0]) * KRW_hwanuel[costs[1]], \"KRW\")"
   ]
  },
  {
   "cell_type": "markdown",
   "id": "cda164a2",
   "metadata": {},
   "source": [
    "## 42. 구구단을 2단부터 9단까지 출력하라."
   ]
  },
  {
   "cell_type": "code",
   "execution_count": 131,
   "id": "5d6597f3",
   "metadata": {},
   "outputs": [
    {
     "name": "stdout",
     "output_type": "stream",
     "text": [
      "2 X 1 = 2\n",
      "2 X 2 = 4\n",
      "2 X 3 = 6\n",
      "2 X 4 = 8\n",
      "2 X 5 = 10\n",
      "2 X 6 = 12\n",
      "2 X 7 = 14\n",
      "2 X 8 = 16\n",
      "2 X 9 = 18\n",
      "3 X 1 = 3\n",
      "3 X 2 = 6\n",
      "3 X 3 = 9\n",
      "3 X 4 = 12\n",
      "3 X 5 = 15\n",
      "3 X 6 = 18\n",
      "3 X 7 = 21\n",
      "3 X 8 = 24\n",
      "3 X 9 = 27\n",
      "4 X 1 = 4\n",
      "4 X 2 = 8\n",
      "4 X 3 = 12\n",
      "4 X 4 = 16\n",
      "4 X 5 = 20\n",
      "4 X 6 = 24\n",
      "4 X 7 = 28\n",
      "4 X 8 = 32\n",
      "4 X 9 = 36\n",
      "5 X 1 = 5\n",
      "5 X 2 = 10\n",
      "5 X 3 = 15\n",
      "5 X 4 = 20\n",
      "5 X 5 = 25\n",
      "5 X 6 = 30\n",
      "5 X 7 = 35\n",
      "5 X 8 = 40\n",
      "5 X 9 = 45\n",
      "6 X 1 = 6\n",
      "6 X 2 = 12\n",
      "6 X 3 = 18\n",
      "6 X 4 = 24\n",
      "6 X 5 = 30\n",
      "6 X 6 = 36\n",
      "6 X 7 = 42\n",
      "6 X 8 = 48\n",
      "6 X 9 = 54\n",
      "7 X 1 = 7\n",
      "7 X 2 = 14\n",
      "7 X 3 = 21\n",
      "7 X 4 = 28\n",
      "7 X 5 = 35\n",
      "7 X 6 = 42\n",
      "7 X 7 = 49\n",
      "7 X 8 = 56\n",
      "7 X 9 = 63\n",
      "8 X 1 = 8\n",
      "8 X 2 = 16\n",
      "8 X 3 = 24\n",
      "8 X 4 = 32\n",
      "8 X 5 = 40\n",
      "8 X 6 = 48\n",
      "8 X 7 = 56\n",
      "8 X 8 = 64\n",
      "8 X 9 = 72\n",
      "9 X 1 = 9\n",
      "9 X 2 = 18\n",
      "9 X 3 = 27\n",
      "9 X 4 = 36\n",
      "9 X 5 = 45\n",
      "9 X 6 = 54\n",
      "9 X 7 = 63\n",
      "9 X 8 = 72\n",
      "9 X 9 = 81\n"
     ]
    }
   ],
   "source": [
    "for i in range(2, 10):\n",
    "    for j in range(1, 10):\n",
    "        print(i, \"X\", j, \"=\", i*j)"
   ]
  },
  {
   "cell_type": "markdown",
   "id": "f6d6bc53",
   "metadata": {},
   "source": [
    "## 43. 구구단을 2단부터 9단까지 출력하되, 계산 값이 홀수인 경우만 출력하라."
   ]
  },
  {
   "cell_type": "code",
   "execution_count": 132,
   "id": "c73548cc",
   "metadata": {},
   "outputs": [
    {
     "name": "stdout",
     "output_type": "stream",
     "text": [
      "3 X 1 = 3\n",
      "3 X 3 = 9\n",
      "3 X 5 = 15\n",
      "3 X 7 = 21\n",
      "3 X 9 = 27\n",
      "5 X 1 = 5\n",
      "5 X 3 = 15\n",
      "5 X 5 = 25\n",
      "5 X 7 = 35\n",
      "5 X 9 = 45\n",
      "7 X 1 = 7\n",
      "7 X 3 = 21\n",
      "7 X 5 = 35\n",
      "7 X 7 = 49\n",
      "7 X 9 = 63\n",
      "9 X 1 = 9\n",
      "9 X 3 = 27\n",
      "9 X 5 = 45\n",
      "9 X 7 = 63\n",
      "9 X 9 = 81\n"
     ]
    }
   ],
   "source": [
    "for i in range(2, 10):\n",
    "    for j in range(1, 10):\n",
    "        if (i*j)%2 == 1:\n",
    "            print(i, \"X\", j, \"=\", i*j)"
   ]
  },
  {
   "cell_type": "markdown",
   "id": "cf4e0e01",
   "metadata": {},
   "source": [
    "## 44. 주소를 다음의 두가지 변수 리스트를 사용해서 출력하라.\n",
    "\n",
    "example: 13-2358"
   ]
  },
  {
   "cell_type": "code",
   "execution_count": 134,
   "id": "9161968f",
   "metadata": {},
   "outputs": [
    {
     "name": "stdout",
     "output_type": "stream",
     "text": [
      "11-2358\n",
      "11-2359\n",
      "12-2358\n",
      "12-2359\n",
      "13-2358\n",
      "13-2359\n"
     ]
    }
   ],
   "source": [
    "units = [\"11\", \"12\", \"13\"]\n",
    "streets = [\"2358\", \"2359\"]\n",
    "for i in range(len(units)):\n",
    "    for j in range(len(streets)):\n",
    "        print(f'{units[i]}-{streets[j]}')"
   ]
  },
  {
   "cell_type": "markdown",
   "id": "3d840c40",
   "metadata": {},
   "source": [
    "## 45. a, b, c, d, e를 저장하는 튜플을 만들고 첫번째와 마지막 값을 출력하라."
   ]
  },
  {
   "cell_type": "code",
   "execution_count": 138,
   "id": "4ecfe1e4",
   "metadata": {},
   "outputs": [
    {
     "name": "stdout",
     "output_type": "stream",
     "text": [
      "ae\n"
     ]
    }
   ],
   "source": [
    "tup = (\"a\",\"b\",\"c\",\"d\",\"e\")\n",
    "print(tup[0] + tup[len(tup) - 1])"
   ]
  },
  {
   "cell_type": "markdown",
   "id": "cecab0bf",
   "metadata": {},
   "source": [
    "## 46. 다음 코드를 실행해보고 에러가 나는 이유를 설명하라. "
   ]
  },
  {
   "cell_type": "code",
   "execution_count": null,
   "id": "c9079ec3",
   "metadata": {},
   "outputs": [],
   "source": [
    "bias = ('shownu', 'joohoney')\n",
    "bias[1] = '1hunnit'"
   ]
  },
  {
   "cell_type": "markdown",
   "id": "3ba1938d",
   "metadata": {},
   "source": [
    "tuple is 불변 object\n",
    "can't be changed"
   ]
  },
  {
   "cell_type": "markdown",
   "id": "23649ba1",
   "metadata": {},
   "source": [
    "## 47. 다음 코드에서 최종적으로 var1과 var2의 값이 어떻게 될지 확인해보고, 왜 이렇게 동작하는지 튜플을 기반으로 설명하라."
   ]
  },
  {
   "cell_type": "code",
   "execution_count": null,
   "id": "499aae03",
   "metadata": {},
   "outputs": [],
   "source": [
    "var1, var2 = 1, 2\n",
    "var1, var2 = var2, var1"
   ]
  },
  {
   "cell_type": "markdown",
   "id": "799d67a3",
   "metadata": {},
   "source": [
    "2, 1. var1, var2 = 1,2라는 튜플을 만들면 각각에 1과 2가 저장된다. 그후에 다시 var1, var2 = 2, 1 이라고 다시 튜플을 만들었기 때문에 각각이 바뀐다."
   ]
  },
  {
   "cell_type": "markdown",
   "id": "f18553b3",
   "metadata": {},
   "source": [
    "## 48. 다음 튜플에서 두번째부터 마지막까지 출력하라."
   ]
  },
  {
   "cell_type": "code",
   "execution_count": 141,
   "id": "442ab836",
   "metadata": {},
   "outputs": [
    {
     "name": "stdout",
     "output_type": "stream",
     "text": [
      "('rush', 'hero', 'dramarama', 'alligator', 'shoot out', 'love killa', 'fantasia', 'gambler')\n"
     ]
    }
   ],
   "source": [
    "titles = ('trespass', 'rush', 'hero', 'dramarama', 'alligator', 'shoot out', 'love killa', 'fantasia', 'gambler')\n",
    "print(titles[1:len(titles)])"
   ]
  },
  {
   "cell_type": "markdown",
   "id": "9c1b739b",
   "metadata": {},
   "source": [
    "## 49. 위의 튜플을 리스트로 변환한 후에 'rush hour'를 마지막에 추가하고, 다시 튜플로 변환하라."
   ]
  },
  {
   "cell_type": "code",
   "execution_count": 145,
   "id": "a3aa9601",
   "metadata": {},
   "outputs": [
    {
     "name": "stdout",
     "output_type": "stream",
     "text": [
      "('trespass', 'rush', 'hero', 'dramarama', 'alligator', 'shoot out', 'love killa', 'fantasia', 'gambler', 'rush hour')\n"
     ]
    }
   ],
   "source": [
    "def tuple_list(tuples):\n",
    "    result = []\n",
    "    for i in range(len(tuples)):\n",
    "        result.append(tuples[i])\n",
    "    return result\n",
    "\n",
    "\n",
    "titles = ('trespass', 'rush', 'hero', 'dramarama', 'alligator', 'shoot out', 'love killa', 'fantasia', 'gambler')\n",
    "title = tuple_list(titles)\n",
    "title.append(\"rush hour\")\n",
    "print(tuple(title))"
   ]
  },
  {
   "cell_type": "markdown",
   "id": "f2a16e5c",
   "metadata": {},
   "source": [
    "## 50. 비어 있는 튜플, 리스트, 딕셔너리 변수를 하나씩 만들고 타입을 출력하라."
   ]
  },
  {
   "cell_type": "code",
   "execution_count": 146,
   "id": "1256eea3",
   "metadata": {},
   "outputs": [
    {
     "name": "stdout",
     "output_type": "stream",
     "text": [
      "<class 'tuple'> <class 'list'> <class 'dict'>\n"
     ]
    }
   ],
   "source": [
    "tup = ()\n",
    "lis = []\n",
    "dic = {}\n",
    "\n",
    "print(type(tup), type(lis), type(dic))"
   ]
  },
  {
   "cell_type": "markdown",
   "id": "6f163f84",
   "metadata": {},
   "source": [
    "## 51. key에 단어, value에 의미를 가진 딕셔너리 변수를 만들고, 각각을 분리시킨 리스트 변수를 출력하라.\n",
    "\n",
    "monsta_x: 현대언어\n",
    "harry_potter: 프로그래머\n",
    "melissa: 모나미\n",
    "seyun: 슬리데린"
   ]
  },
  {
   "cell_type": "code",
   "execution_count": 153,
   "id": "1a2a58af",
   "metadata": {},
   "outputs": [
    {
     "name": "stdout",
     "output_type": "stream",
     "text": [
      "['monsta_x', 'harry_potter', 'melissa', 'seyun'] ['현대언어', '프로그래머', '모나미', '슬리데린']\n"
     ]
    }
   ],
   "source": [
    "dicVariable = {\n",
    "    \"monsta_x\": \"현대언어\",\n",
    "    \"harry_potter\": \"프로그래머\",\n",
    "    \"melissa\": \"모나미\",\n",
    "    \"seyun\": \"슬리데린\"\n",
    "}\n",
    "\n",
    "def inhencedfor(obj):\n",
    "    result = []\n",
    "    for ob in obj:\n",
    "        result.append(ob)\n",
    "    return result\n",
    "\n",
    "k = inhencedfor(dicVariable.keys())\n",
    "v = inhencedfor(dicVariable.values())\n",
    "\n",
    "print(k, v)"
   ]
  },
  {
   "cell_type": "markdown",
   "id": "a4a4dca2",
   "metadata": {},
   "source": [
    "## 52. 위의 딕셔너리에서 value를 의미와 외움표시 두 데이터로 바꾸고 외움표시가 X인 단어만 출력하라.\n",
    "\n",
    "monsta_x: 현대언어, O\n",
    "harry_potter: 프로그래머, O\n",
    "melissa: 모나미, O\n",
    "seyun: 슬리데린, X"
   ]
  },
  {
   "cell_type": "code",
   "execution_count": 156,
   "id": "2cfed91b",
   "metadata": {},
   "outputs": [
    {
     "name": "stdout",
     "output_type": "stream",
     "text": [
      "seyun\n"
     ]
    }
   ],
   "source": [
    "dicVar = {\n",
    "    \"monsta_x\": (\"현대언어\", \"O\"),\n",
    "    \"harry_potter\": (\"프로그래머\", \"O\"),\n",
    "    \"melissa\": (\"모나미\", \"O\"),\n",
    "    \"seyun\": (\"슬리데린\", \"X\")\n",
    "}\n",
    "for dic in dicVar.items():\n",
    "    if dic[1][1] == \"X\":\n",
    "        print(dic[0])\n",
    "        "
   ]
  },
  {
   "cell_type": "markdown",
   "id": "1f5c574a",
   "metadata": {},
   "source": [
    "## 53. 위의 딕셔너리에서 사용자로부터 영어단어를 입력받으면 해당 영어단어의 외움표시를 O으로 수정하고, 외움표시가 X인 단어만 출력하라."
   ]
  },
  {
   "cell_type": "code",
   "execution_count": 173,
   "id": "0a38ce24",
   "metadata": {},
   "outputs": [
    {
     "name": "stdout",
     "output_type": "stream",
     "text": [
      "영단어: f\n",
      "seyun\n"
     ]
    }
   ],
   "source": [
    "dicVar = {\n",
    "    \"monsta_x\": [\"현대언어\", \"O\"],\n",
    "    \"harry_potter\": [\"프로그래머\", \"O\"],\n",
    "    \"melissa\": [\"모나미\", \"O\"],\n",
    "    \"seyun\": [\"슬리데린\", \"X\"]\n",
    "}\n",
    "\n",
    "user = input(\"영단어: \")\n",
    "\n",
    "for dic in dicVar.items():\n",
    "    if dic[0] == user:\n",
    "        dic[1][1] = \"O\"\n",
    "        \n",
    "    if dic[1][1] == \"X\":\n",
    "        print(dic[0])"
   ]
  },
  {
   "cell_type": "markdown",
   "id": "24f236c1",
   "metadata": {},
   "source": [
    "## 54. 다음의 dict_base, dict_2, dict_host가 있을 때, dict1과 dict2를 dict_all에 추가한 후, dict_all을 출력하라."
   ]
  },
  {
   "cell_type": "code",
   "execution_count": 179,
   "id": "0063bcf0",
   "metadata": {},
   "outputs": [
    {
     "name": "stdout",
     "output_type": "stream",
     "text": [
      "{'ellie': '엘리', 'seyun': '세윤', 'dia': '다희', 'hyeina': '혜영', 'melly': '향원'}\n"
     ]
    }
   ],
   "source": [
    "dict_base = {'dia': '다희', 'hyeina': '혜영'}\n",
    "dict_2 = {'melly': '향원'}\n",
    "dict_host = {'ellie': '엘리', 'seyun': '세윤'}\n",
    "for dat in dict_base.keys():\n",
    "    dict_host[dat] = dict_base[dat]\n",
    "for dat in dict_2.keys():\n",
    "    dict_host[dat] = dict_2[dat]\n",
    "        \n",
    "print(dict_host)"
   ]
  },
  {
   "cell_type": "code",
   "execution_count": null,
   "id": "9183ff32",
   "metadata": {},
   "outputs": [],
   "source": []
  },
  {
   "cell_type": "markdown",
   "id": "72ab70c9",
   "metadata": {},
   "source": [
    "## 55. 다음의 딕셔너리에서 dob와 nickname 정보를 출력하라."
   ]
  },
  {
   "cell_type": "code",
   "execution_count": 189,
   "id": "5b99f6af",
   "metadata": {},
   "outputs": [
    {
     "name": "stdout",
     "output_type": "stream",
     "text": [
      "1992-06-18\n",
      "male\n"
     ]
    }
   ],
   "source": [
    "artist_info = {\n",
    "    'artist_details': {\n",
    "        'dob': '1992-06-18', \n",
    "        'gender': 'male', \n",
    "        'role': ['main dancer', 'lead vocal']\n",
    "    },\n",
    "    'artist_name': 'shownu',\n",
    "    'nickname': 'bear'\n",
    "}\n",
    "\n",
    "print(artist_info['artist_details']['dob'])\n",
    "print(artist_info['artist_details']['gender'])"
   ]
  },
  {
   "cell_type": "code",
   "execution_count": null,
   "id": "05535938",
   "metadata": {},
   "outputs": [],
   "source": []
  },
  {
   "cell_type": "markdown",
   "id": "a6c32d13",
   "metadata": {},
   "source": [
    "## 56. 다음 리스트에서 중복 숫자를 제거하고 출력하라."
   ]
  },
  {
   "cell_type": "code",
   "execution_count": 194,
   "id": "317c6590",
   "metadata": {},
   "outputs": [
    {
     "name": "stdout",
     "output_type": "stream",
     "text": [
      "{0, 1, 2, 4, 5, 6, 8, 9}\n",
      "0\n",
      "1\n",
      "2\n",
      "4\n",
      "5\n",
      "6\n",
      "8\n",
      "9\n"
     ]
    }
   ],
   "source": [
    "number_list = [1, 9, 9, 2, 0, 6, 1, 8, 2, 0, 1, 5, 0, 5, 1, 4]\n",
    "result = set()\n",
    "for data in number_list:\n",
    "    result.add(data)\n",
    "\n",
    "for res in result:\n",
    "    print(res)"
   ]
  },
  {
   "cell_type": "code",
   "execution_count": null,
   "id": "4aba4ca5",
   "metadata": {},
   "outputs": [],
   "source": []
  }
 ],
 "metadata": {
  "kernelspec": {
   "display_name": "Python 3 (ipykernel)",
   "language": "python",
   "name": "python3"
  },
  "language_info": {
   "codemirror_mode": {
    "name": "ipython",
    "version": 3
   },
   "file_extension": ".py",
   "mimetype": "text/x-python",
   "name": "python",
   "nbconvert_exporter": "python",
   "pygments_lexer": "ipython3",
   "version": "3.9.7"
  }
 },
 "nbformat": 4,
 "nbformat_minor": 5
}
